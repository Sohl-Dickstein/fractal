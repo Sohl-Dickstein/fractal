{
  "nbformat": 4,
  "nbformat_minor": 0,
  "metadata": {
    "colab": {
      "provenance": [],
      "machine_shape": "hm",
      "gpuType": "A100"
    },
    "kernelspec": {
      "name": "python3",
      "display_name": "Python 3"
    },
    "language_info": {
      "name": "python"
    },
    "accelerator": "GPU"
  },
  "cells": [
    {
      "cell_type": "markdown",
      "source": [
        "# Init"
      ],
      "metadata": {
        "id": "QlJf4mugs8m4"
      }
    },
    {
      "cell_type": "code",
      "execution_count": null,
      "metadata": {
        "id": "BRsy7Gelplr3"
      },
      "outputs": [],
      "source": [
        "import jax\n",
        "from jax import config\n",
        "config.update(\"jax_enable_x64\", True)\n",
        "import jax.numpy as jnp\n",
        "import numpy as np\n",
        "import matplotlib\n",
        "\n",
        "matplotlib.use('Agg')\n",
        "\n",
        "import matplotlib.pyplot as plt\n",
        "import matplotlib.patches as patches\n",
        "import matplotlib.animation as animation\n",
        "from matplotlib import cm\n",
        "\n",
        "from scipy import ndimage\n",
        "\n",
        "import time\n",
        "from google.colab import files\n",
        "\n",
        "import datetime\n",
        "\n",
        "import pickle\n",
        "\n",
        "import shutil"
      ]
    },
    {
      "cell_type": "code",
      "source": [
        "# # so that results can be saved directly to Google Drive, rather than being lost when the colab kernel stops\n",
        "\n",
        "from google.colab import drive\n",
        "drive.mount('/content/drive')"
      ],
      "metadata": {
        "id": "ljFvnyxApvAd",
        "colab": {
          "base_uri": "https://localhost:8080/"
        },
        "outputId": "6505e7ab-a880-4fde-a827-09555ac8f7e6"
      },
      "execution_count": null,
      "outputs": [
        {
          "output_type": "stream",
          "name": "stdout",
          "text": [
            "Mounted at /content/drive\n"
          ]
        }
      ]
    },
    {
      "cell_type": "markdown",
      "metadata": {
        "id": "DWglSNX_4SoS"
      },
      "source": [
        "## Image intensity scaling"
      ]
    },
    {
      "cell_type": "code",
      "execution_count": null,
      "metadata": {
        "id": "2ezo5g6Rx2q9"
      },
      "outputs": [],
      "source": [
        "def cdf_img(x, buffer=0.25):\n",
        "  \"\"\"\n",
        "  restretch to use full color palette, while preserving sign\n",
        "  \"\"\"\n",
        "\n",
        "  u = jnp.sort(x.ravel())\n",
        "\n",
        "  num_neg = jnp.sum(u<0)\n",
        "  num_nonneg = u.shape[0] - num_neg\n",
        "  v = jnp.concatenate((jnp.linspace(-1,-buffer,num_neg), jnp.linspace(buffer,1,num_nonneg)), axis=0)\n",
        "  y = jnp.interp(x, u, v)\n",
        "  return y"
      ]
    },
    {
      "cell_type": "code",
      "source": [
        "def convergence_measure(v, max_val = 1e6):\n",
        "  \"\"\"\n",
        "  turn the training history into a single number which looks pretty in an\n",
        "  image\n",
        "  \"\"\"\n",
        "\n",
        "  v = jnp.abs(v)\n",
        "  fin = jnp.isfinite(v)\n",
        "  v = v*fin + max_val*(1-fin)\n",
        "\n",
        "  v /= 2\n",
        "  exceeds = (v > max_val)\n",
        "  v = v*(1-exceeds) + max_val*exceeds\n",
        "\n",
        "  # converged = (v[-1] < 1)\n",
        "  converged = (jnp.mean(v[-20:]) < 1) # average over any oscillatory behavior\n",
        "  return jnp.where(converged, -jnp.sum(v), jnp.sum(1/v))\n",
        "\n",
        "convergence_measure_vmap = jax.jit(jax.vmap(convergence_measure, in_axes=(0,), out_axes=0))"
      ],
      "metadata": {
        "id": "eDOM5XTZtKbp"
      },
      "execution_count": null,
      "outputs": []
    },
    {
      "cell_type": "markdown",
      "source": [
        "# Iteration of z**2 + c for grid of hyperparameters"
      ],
      "metadata": {
        "id": "eCXpNOIC4bCq"
      }
    },
    {
      "cell_type": "code",
      "source": [
        "def mandel_trajectory(c, num_steps):\n",
        "\n",
        "  def mandel_f(z, step):\n",
        "    newz = z**2 + c\n",
        "    return newz, newz\n",
        "\n",
        "  z_init = 0+0j\n",
        "  z_final, z_hist = jax.lax.scan(mandel_f, z_init, jnp.arange(num_steps))\n",
        "  return z_hist\n",
        "\n",
        "def mandel_trajectory_summary(c, num_steps):\n",
        "  z_hist = mandel_trajectory(c, num_steps)\n",
        "  return convergence_measure(z_hist)\n",
        "\n",
        "mandel_trajectory_summary_vmap = jax.jit(jax.vmap(mandel_trajectory_summary, in_axes=(0,None), out_axes=0), static_argnums=(1,))\n",
        "\n",
        "def mandel_image(c0, c1, resolution, num_chunks = 64):\n",
        "  C_real, C_imag = jnp.meshgrid(jnp.linspace(c0.real, c1.real, resolution), jnp.linspace(c0.imag, c1.imag, resolution))\n",
        "  C = C_real + 1j*C_imag\n",
        "\n",
        "  C = C.reshape((num_chunks, -1))\n",
        "  img = []\n",
        "  for C_chunk in C:\n",
        "    img_chunk = mandel_trajectory_summary_vmap(C_chunk, 100)\n",
        "    img.append(img_chunk)\n",
        "\n",
        "  img = jnp.concatenate(img, axis=0)\n",
        "\n",
        "  return img.reshape((resolution,resolution))\n",
        "\n",
        "  # z_hist = mandel_trajectory_summary_vmap(C.ravel(), 100)\n",
        "  # z_hist = z_hist.reshape((resolution,resolution))\n",
        "  # return z_hist"
      ],
      "metadata": {
        "id": "5HX4tCCPuSt2"
      },
      "execution_count": null,
      "outputs": []
    },
    {
      "cell_type": "markdown",
      "source": [
        "# Compute a region of Mandelbrot"
      ],
      "metadata": {
        "id": "02QMxC6f4Et0"
      }
    },
    {
      "cell_type": "code",
      "source": [
        "c0 = -2.1 - 1.35j\n",
        "c1 = 0.6 + 1.35j\n",
        "resolution = 4096*4\n",
        "\n",
        "img = mandel_image(c0, c1, resolution)"
      ],
      "metadata": {
        "id": "z0wGuOfsw0DN"
      },
      "execution_count": null,
      "outputs": []
    },
    {
      "cell_type": "markdown",
      "source": [
        "# Draw the figure"
      ],
      "metadata": {
        "id": "JMXzQ_2c4Bzy"
      }
    },
    {
      "cell_type": "code",
      "source": [
        "dpi = 1000\n",
        "figsize = (5.2,4.5)\n",
        "\n",
        "img_norm = cdf_img(-img)\n",
        "\n",
        "fig, (ax1) = plt.subplots(figsize=figsize, dpi=dpi)\n",
        "im = ax1.imshow(img_norm,\n",
        "                extent=[c0.real, c1.real, c0.imag, c1.imag],\n",
        "                origin='lower',\n",
        "                vmin=-1, vmax=1,\n",
        "                cmap='Spectral',\n",
        "                aspect='auto',\n",
        "                interpolation='nearest'\n",
        "                )\n",
        "\n",
        "plt.xlabel(r'Real part of $c$')\n",
        "plt.ylabel(r'Imaginary part of $c$')\n",
        "\n",
        "plt.tight_layout()\n",
        "\n",
        "savename = f'/content/drive/MyDrive/fractal/mandelbrot'\n",
        "plt.savefig(savename + '.pdf')\n",
        "plt.savefig(savename + '.png')"
      ],
      "metadata": {
        "id": "PcG4JA9_xBEe"
      },
      "execution_count": null,
      "outputs": []
    },
    {
      "cell_type": "code",
      "source": [
        "dpi = 300\n",
        "figsize = (5.2,4.5)\n",
        "\n",
        "img_norm = cdf_img(-img)\n",
        "\n",
        "fig, (ax1) = plt.subplots(figsize=figsize, dpi=dpi)\n",
        "im = ax1.imshow(img_norm,\n",
        "                extent=[c0.real, c1.real, c0.imag, c1.imag],\n",
        "                origin='lower',\n",
        "                vmin=-1, vmax=1,\n",
        "                cmap='Spectral',\n",
        "                aspect='auto',\n",
        "                interpolation='nearest'\n",
        "                )\n",
        "\n",
        "plt.xlabel(r'Real part of $c$')\n",
        "plt.ylabel(r'Imaginary part of $c$')\n",
        "\n",
        "plt.tight_layout()\n",
        "\n",
        "savename = f'/content/drive/MyDrive/fractal/mandelbrot_midres'\n",
        "plt.savefig(savename + '.pdf')\n",
        "plt.savefig(savename + '.png')"
      ],
      "metadata": {
        "id": "rc-7Iar-o8e4"
      },
      "execution_count": null,
      "outputs": []
    },
    {
      "cell_type": "code",
      "source": [],
      "metadata": {
        "id": "dxJ7MbURqcNu"
      },
      "execution_count": null,
      "outputs": []
    }
  ]
}